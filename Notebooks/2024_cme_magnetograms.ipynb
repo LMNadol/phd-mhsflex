{
 "cells": [
  {
   "cell_type": "code",
   "execution_count": 1,
   "metadata": {},
   "outputs": [],
   "source": [
    "%load_ext autoreload\n",
    "%autoreload 2"
   ]
  },
  {
   "cell_type": "code",
   "execution_count": 2,
   "metadata": {},
   "outputs": [
    {
     "name": "stderr",
     "output_type": "stream",
     "text": [
      "/Users/lilli/Library/Caches/pypoetry/virtualenvs/mflex-cNoQEf_u-py3.12/lib/python3.12/site-packages/tqdm/auto.py:21: TqdmWarning: IProgress not found. Please update jupyter and ipywidgets. See https://ipywidgets.readthedocs.io/en/stable/user_install.html\n",
      "  from .autonotebook import tqdm as notebook_tqdm\n"
     ]
    }
   ],
   "source": [
    "from __future__ import annotations\n",
    "import numpy as np\n",
    "\n",
    "from matplotlib import rc, colors, ticker\n",
    "import matplotlib.pyplot as plt\n",
    "\n",
    "from sunpy.net import Fido, attrs as a\n",
    "import astropy.units as u\n",
    "from astropy.io import fits\n",
    "from astropy.visualization import astropy_mpl_style\n",
    "from astropy.coordinates import SkyCoord\n",
    "import sunpy.map\n",
    "from matplotlib.patches import ConnectionPatch\n",
    "from matplotlib import colors\n",
    "\n",
    "from mhsflex.field2d import Field2dData, check_fluxbalance, alpha_HS04\n",
    "from mhsflex.field3d import Field3dData, calculate_magfield\n",
    "\n",
    "from mhsflex.vis import plot\n",
    "\n",
    "rc(\"font\", **{\"family\": \"serif\", \"serif\": [\"Times\"]})\n",
    "rc(\"text\", usetex=True)\n",
    "\n",
    "c4 = (1.000, 0.224, 0.376)\n",
    "c1 = (0.439, 0.788, 1.000)\n",
    "c3 = \"black\"\n",
    "c2 = (0.420, 0.502, 1.000)\n",
    "\n",
    "cmap = colors.LinearSegmentedColormap.from_list(\n",
    "    \"cmap\",\n",
    "    (\n",
    "        (0.000, (0.000, 0.000, 0.000)),\n",
    "        (0.500, (0.659, 0.659, 0.659)),\n",
    "        (1.000, (1.000, 1.000, 1.000)),\n",
    "    ),\n",
    ")\n",
    "\n",
    "cmap2 = colors.LinearSegmentedColormap.from_list(\n",
    "    \"cmap2\", ((0.000, (0.984, 1.000, 0.000)), (1.000, (1.000, 0.988, 0.761)))\n",
    ")\n",
    "\n",
    "c2 = (0.420, 0.502, 1.000)\n",
    "c3 = \"black\"\n",
    "c4 = (1.000, 0.224, 0.376)\n",
    "c5 = (0.784, 0.231, 0.576)\n",
    "c7 = (0.992, 0.251, 0.733)\n",
    "c8 = (0.867, 0.871, 0.184)\n",
    "c9 = (0.949, 0.922, 0.678)\n",
    "c10 = (0.984, 0.455, 0.231)\n",
    "c11 = (0.765, 0.835, 0.922)\n",
    "c12 = (0.965, 0.694, 0.486)\n",
    "c13 = (0.992, 0.584, 0.820)"
   ]
  },
  {
   "cell_type": "code",
   "execution_count": 3,
   "metadata": {},
   "outputs": [
    {
     "name": "stdout",
     "output_type": "stream",
     "text": [
      "arcsec arcsec 0.504043 0.504043\n",
      "2.443667127239231e-06 2.443667127239231e-06\n",
      "150934254918.71\n",
      "150934.25491870998\n",
      "0.3688330771191978 0.3688330771191978\n"
     ]
    }
   ],
   "source": [
    "path = \"/Users/lilli/Desktop/Thesis/May2024_flare/magnetograms/hmi_m_45s_2024_05_06_14_01_30_tai_magnetogram.fits\"\n",
    "# -150, 10, -350, -400\n",
    "data2d = Field2dData.from_fits_SDO(path)\n"
   ]
  },
  {
   "cell_type": "code",
   "execution_count": 6,
   "metadata": {},
   "outputs": [
    {
     "name": "stdout",
     "output_type": "stream",
     "text": [
      "222\n"
     ]
    }
   ],
   "source": [
    "print(data2d.nz)"
   ]
  },
  {
   "cell_type": "code",
   "execution_count": null,
   "metadata": {},
   "outputs": [],
   "source": [
    "check_fluxbalance(data2d)"
   ]
  },
  {
   "cell_type": "code",
   "execution_count": null,
   "metadata": {},
   "outputs": [],
   "source": [
    "alpha = 0.01\n",
    "\n",
    "length_scale = float(2.0)  # Normalising length scale for Seehafer\n",
    "\n",
    "length_scale_x = 2.0 * data2d.nx * data2d.px\n",
    "length_scale_y = 2.0 * data2d.ny * data2d.py\n",
    "\n",
    "length_scale_x_norm = length_scale_x / length_scale \n",
    "length_scale_y_norm = length_scale_y / length_scale \n",
    "\n",
    "kx_arr = np.arange(data2d.nf) * np.pi / length_scale_x_norm  # [0:nf_max]\n",
    "ky_arr = np.arange(data2d.nf) * np.pi / length_scale_y_norm  # [0:nf_max]\n",
    "one_arr = 0.0 * np.arange(data2d.nf) + 1.0\n",
    "\n",
    "ky_grid = np.outer(ky_arr, one_arr)  # [0:nf_max, 0:nf_max]\n",
    "kx_grid = np.outer(one_arr, kx_arr)  # [0:nf_max, 0:nf_max]\n",
    "\n",
    "# kx^2 + ky^2\n",
    "\n",
    "k2_arr = np.outer(ky_arr**2, one_arr) + np.outer(one_arr, kx_arr**2)\n",
    "k2_arr[0, 0] = (np.pi / length_scale_x_norm) ** 2 + (np.pi / length_scale_y_norm) ** 2\n",
    "k2_arr[1, 0] = (np.pi / length_scale_x_norm) ** 2 + (np.pi / length_scale_y_norm) ** 2\n",
    "k2_arr[0, 1] = (np.pi / length_scale_x_norm) ** 2 + (np.pi / length_scale_y_norm) ** 2\n",
    "\n",
    "# Need k^2 > alpha^2/(1-2a) and k^2 > alpha^2\n",
    "\n",
    "limit = 1 / 2 * (1 - alpha**2 / k2_arr)\n",
    "\n",
    "print(limit.min())"
   ]
  },
  {
   "cell_type": "code",
   "execution_count": 7,
   "metadata": {},
   "outputs": [],
   "source": [
    "a = 0.38"
   ]
  },
  {
   "cell_type": "code",
   "execution_count": 5,
   "metadata": {},
   "outputs": [],
   "source": [
    "# data3d = calculate_magfield(data2d, a, 1.0, alpha, 2.0, 0.2)\n",
    "path2save = \"/Users/lilli/Desktop/Thesis/May2024_flare/May6_mhs\"\n",
    "# data3d.save(path2save)\n",
    "\n",
    "data3d_6May = Field3dData.load(path2save)"
   ]
  },
  {
   "cell_type": "code",
   "execution_count": 6,
   "metadata": {},
   "outputs": [],
   "source": [
    "np.save(\"/Users/lilli/Desktop/Thesis/May2024_flare/dp_6May.npy\", data3d_6May.dpressure)"
   ]
  },
  {
   "cell_type": "code",
   "execution_count": 7,
   "metadata": {},
   "outputs": [],
   "source": [
    "np.save(\"/Users/lilli/Desktop/Thesis/May2024_flare/dd_6May.npy\", data3d_6May.ddensity)"
   ]
  },
  {
   "cell_type": "code",
   "execution_count": null,
   "metadata": {},
   "outputs": [],
   "source": [
    "folder = \"/Users/lilli/Desktop/Thesis/May2024_flare/May6_mhs\"\n",
    "\n",
    "plot(data3d_6May, view=\"los\", save=True, path=folder)"
   ]
  },
  {
   "cell_type": "code",
   "execution_count": 8,
   "metadata": {},
   "outputs": [],
   "source": [
    "# path = \"/Users/lilli/Desktop/Thesis/May2024_flare/magnetograms/hmi_m_45s_2024_05_07_14_01_30_tai_magnetogram.fits\"\n",
    "# # -170, 220, -370, -190\n",
    "# data2d = Field2dData.from_fits_SDO(path)\n",
    "# data3d = calculate_magfield(data2d, a, 1.0, alpha, 2.0, 0.2)\n",
    "path2save = \"/Users/lilli/Desktop/Thesis/May2024_flare/May7_mhs\"\n",
    "# data3d.save(path2save)\n",
    "\n",
    "data3d_7May = Field3dData.load(path2save)"
   ]
  },
  {
   "cell_type": "code",
   "execution_count": 9,
   "metadata": {},
   "outputs": [],
   "source": [
    "np.save(\"/Users/lilli/Desktop/Thesis/May2024_flare/dp_7May.npy\", data3d_7May.dpressure)"
   ]
  },
  {
   "cell_type": "code",
   "execution_count": 10,
   "metadata": {},
   "outputs": [],
   "source": [
    "np.save(\"/Users/lilli/Desktop/Thesis/May2024_flare/dd_7May.npy\", data3d_7May.ddensity)"
   ]
  },
  {
   "cell_type": "code",
   "execution_count": null,
   "metadata": {},
   "outputs": [],
   "source": [
    "folder = \"/Users/lilli/Desktop/Thesis/May2024_flare/May7_mhs\"\n",
    "\n",
    "plot(data3d_7May, view=\"side\", save=True, path=folder)"
   ]
  },
  {
   "cell_type": "code",
   "execution_count": 11,
   "metadata": {},
   "outputs": [],
   "source": [
    "# path = \"/Users/lilli/Desktop/Thesis/May2024_flare/magnetograms/hmi_m_45s_2024_05_08_14_01_30_tai_magnetogram.fits\"\n",
    "# # # -170, 430, -370, 20\n",
    "# data2d = Field2dData.from_fits_SDO(path)\n",
    "# data3d = calculate_magfield(data2d, a, 1.0, alpha, 2.0, 0.2)\n",
    "path2save = \"/Users/lilli/Desktop/Thesis/May2024_flare/May8_mhs\"\n",
    "# data3d.save(path2save)\n",
    "\n",
    "data3d_8May = Field3dData.load(path2save)"
   ]
  },
  {
   "cell_type": "code",
   "execution_count": 12,
   "metadata": {},
   "outputs": [],
   "source": [
    "np.save(\"/Users/lilli/Desktop/Thesis/May2024_flare/dp_8May.npy\", data3d_8May.dpressure)"
   ]
  },
  {
   "cell_type": "code",
   "execution_count": 13,
   "metadata": {},
   "outputs": [],
   "source": [
    "np.save(\"/Users/lilli/Desktop/Thesis/May2024_flare/dd_8May.npy\", data3d_8May.ddensity)"
   ]
  },
  {
   "cell_type": "code",
   "execution_count": null,
   "metadata": {},
   "outputs": [],
   "source": [
    "folder = \"/Users/lilli/Desktop/Thesis/May2024_flare/May8_mhs\"\n",
    "\n",
    "plot(data3d_8May, view=\"los\", save=True, path=folder)"
   ]
  },
  {
   "cell_type": "code",
   "execution_count": null,
   "metadata": {},
   "outputs": [],
   "source": [
    "path = \"/Users/lilli/Desktop/Thesis/May2024_flare/magnetograms/hmi_m_45s_2024_05_09_14_01_30_tai_magnetogram.fits\"\n",
    "# -170, 630, -370, 220\n",
    "data2d = Field2dData.from_fits_SDO(path)"
   ]
  },
  {
   "cell_type": "code",
   "execution_count": 3,
   "metadata": {},
   "outputs": [],
   "source": [
    "# data3d = calculate_magfield(data2d, a, 1.0, alpha, 2.0, 0.2)\n",
    "path2save = \"/Users/lilli/Desktop/Thesis/May2024_flare/May9_mhs\"\n",
    "# data3d.save(path2save)\n",
    "\n",
    "data3d_9May = Field3dData.load(path2save)"
   ]
  },
  {
   "cell_type": "code",
   "execution_count": 4,
   "metadata": {},
   "outputs": [],
   "source": [
    "np.save(\"/Users/lilli/Desktop/Thesis/May2024_flare/dp_9May.npy\", data3d_9May.dpressure)"
   ]
  },
  {
   "cell_type": "code",
   "execution_count": 5,
   "metadata": {},
   "outputs": [],
   "source": [
    "np.save(\"/Users/lilli/Desktop/Thesis/May2024_flare/dd_9May.npy\", data3d_9May.ddensity)"
   ]
  },
  {
   "cell_type": "code",
   "execution_count": null,
   "metadata": {},
   "outputs": [],
   "source": [
    "folder = \"/Users/lilli/Desktop/Thesis/May2024_flare/May9_mhs\"\n",
    "\n",
    "plot(data3d_9May, view=\"los\", save=True, path=folder)"
   ]
  },
  {
   "cell_type": "code",
   "execution_count": 4,
   "metadata": {},
   "outputs": [],
   "source": [
    "dp_6May = np.load(\"/Users/lilli/Desktop/Thesis/May2024_flare/dp_6May.npy\")"
   ]
  },
  {
   "cell_type": "code",
   "execution_count": 5,
   "metadata": {},
   "outputs": [],
   "source": [
    "dp_7May = np.load(\"/Users/lilli/Desktop/Thesis/May2024_flare/dp_7May.npy\")\n",
    "dp_8May = np.load(\"/Users/lilli/Desktop/Thesis/May2024_flare/dp_8May.npy\")\n",
    "dp_9May = np.load(\"/Users/lilli/Desktop/Thesis/May2024_flare/dp_9May.npy\")"
   ]
  },
  {
   "cell_type": "code",
   "execution_count": 5,
   "metadata": {},
   "outputs": [],
   "source": [
    "dp_before = np.load(\"/Users/lilli/Desktop/Thesis/May2024_flare/dp_before.npy\")\n",
    "dp_after = np.load(\"/Users/lilli/Desktop/Thesis/May2024_flare/dp_after.npy\")\n",
    "dd_before = np.load(\"/Users/lilli/Desktop/Thesis/May2024_flare/dd_before.npy\")\n",
    "dd_after = np.load(\"/Users/lilli/Desktop/Thesis/May2024_flare/dd_after.npy\")"
   ]
  },
  {
   "cell_type": "code",
   "execution_count": 21,
   "metadata": {},
   "outputs": [
    {
     "data": {
      "image/png": "[encoded data removed]",
      "text/plain": [
       "<Figure size 640x480 with 1 Axes>"
      ]
     },
     "metadata": {},
     "output_type": "display_data"
    }
   ],
   "source": [
    "fig, ax1 = plt.subplots()\n",
    "\n",
    "ax1.plot(\n",
    "    data2d.z,\n",
    "    dp_before[137, 466, :],\n",
    "    linewidth=1.0,\n",
    "    color=c3,\n",
    "    linestyle=\"dashed\",\n",
    "    label=r\"06 May 06:11:05\",\n",
    ")\n",
    "ax1.plot(\n",
    "    data2d.z,\n",
    "    dp_6May[148, 526, :],\n",
    "    linewidth=1.0,\n",
    "    color=c1,\n",
    "    label=r\"06 May 14:01:30\",\n",
    ")\n",
    "ax1.plot(\n",
    "    data2d.z,\n",
    "    dp_after[164, 365, :],\n",
    "    linewidth=1.0,\n",
    "    color=c3, \n",
    "    linestyle=(5,(5,5)),\n",
    "    label=r\"16 May 16:49:30\",\n",
    ")\n",
    "ax1.plot(\n",
    "    data2d.z,\n",
    "    dp_7May[190, 511, :],\n",
    "    linewidth=1.0,\n",
    "    color=c2,\n",
    "    label=r\"07 May 14:01:30\",\n",
    ")\n",
    "ax1.plot(\n",
    "    data2d.z,\n",
    "    dp_8May[205, 481, :],\n",
    "    linewidth=1.0,\n",
    "    color=c8,\n",
    "    label=r\"08 May 14:01:30\",\n",
    ")\n",
    "ax1.plot(\n",
    "    data2d.z,\n",
    "    dp_9May[225, 215, :],\n",
    "    linewidth=1.0,\n",
    "    color=c5,\n",
    "    label=r\"09 May 14:01:30\",\n",
    ")\n",
    "\n",
    "ax1.set_xlabel(\"z (Mm)\")\n",
    "plt.xlim([0, 4.0])\n",
    "plt.legend(frameon=False)\n",
    "ax1.tick_params(direction=\"in\", length=2, width=0.5)\n",
    "\n",
    "plt.title(\n",
    "    r\"Plasma pressure variation by day\"\n",
    ")\n",
    "lines1, labels1 = ax1.get_legend_handles_labels()\n",
    "\n",
    "lines = lines1\n",
    "labels = labels1\n",
    "ax1.set_ylabel(r\"$\\Delta p$\")\n",
    "\n",
    "plt.legend(lines, labels, frameon=False)\n",
    "plotname =  \"/Users/lilli/Desktop/Thesis/May2024_flare/dpressure.png\"\n",
    "plt.savefig(plotname, dpi=300, bbox_inches=\"tight\", pad_inches=0.1)\n",
    "plt.show()"
   ]
  },
  {
   "cell_type": "code",
   "execution_count": 4,
   "metadata": {},
   "outputs": [],
   "source": [
    "dd_6May = np.load(\"/Users/lilli/Desktop/Thesis/May2024_flare/dd_6May.npy\")\n",
    "dd_7May = np.load(\"/Users/lilli/Desktop/Thesis/May2024_flare/dd_7May.npy\")\n",
    "dd_8May = np.load(\"/Users/lilli/Desktop/Thesis/May2024_flare/dd_8May.npy\")\n",
    "dd_9May = np.load(\"/Users/lilli/Desktop/Thesis/May2024_flare/dd_9May.npy\")"
   ]
  },
  {
   "cell_type": "code",
   "execution_count": 8,
   "metadata": {},
   "outputs": [
    {
     "data": {
      "image/png": "[encoded data removed]",
      "text/plain": [
       "<Figure size 640x480 with 1 Axes>"
      ]
     },
     "metadata": {},
     "output_type": "display_data"
    }
   ],
   "source": [
    "fig, ax1 = plt.subplots()\n",
    "\n",
    "ax1.plot(\n",
    "    data2d.z,\n",
    "    dd_before[137, 466, :],\n",
    "    linewidth=1.0,\n",
    "    color=c3,\n",
    "    linestyle=\"dashed\",\n",
    "    label=r\"06 May 06:11:05\",\n",
    ")\n",
    "ax1.plot(\n",
    "    data2d.z,\n",
    "    dd_6May[148, 526, :],\n",
    "    linewidth=1.0,\n",
    "    color=c1,\n",
    "    label=r\"06 May 14:01:30\",\n",
    ")\n",
    "ax1.plot(\n",
    "    data2d.z,\n",
    "    dd_after[164, 365, :],\n",
    "    linewidth=1.0,\n",
    "    color=c3, \n",
    "    linestyle=(5,(5,5)),\n",
    "    label=r\"16 May 16:49:30\",\n",
    ")\n",
    "ax1.plot(\n",
    "    data2d.z,\n",
    "    dd_7May[190, 511, :],\n",
    "    linewidth=1.0,\n",
    "    color=c2,\n",
    "    label=r\"07 May 14:01:30\",\n",
    ")\n",
    "ax1.plot(\n",
    "    data2d.z,\n",
    "    dd_8May[205, 481, :],\n",
    "    linewidth=1.0,\n",
    "    color=c8,\n",
    "    label=r\"08 May 14:01:30\",\n",
    ")\n",
    "ax1.plot(\n",
    "    data2d.z,\n",
    "    dd_9May[225, 215, :],\n",
    "    linewidth=1.0,\n",
    "    color=c5,\n",
    "    label=r\"09 May 14:01:30\",\n",
    ")\n",
    "\n",
    "\n",
    "ax1.set_xlabel(\"z (Mm)\")\n",
    "plt.xlim([0, 4.0])\n",
    "plt.legend(frameon=False)\n",
    "ax1.tick_params(direction=\"in\", length=2, width=0.5)\n",
    "\n",
    "plt.title(\n",
    "    r\"Plasma density variation by day\"\n",
    ")\n",
    "lines1, labels1 = ax1.get_legend_handles_labels()\n",
    "\n",
    "lines = lines1\n",
    "labels = labels1\n",
    "ax1.set_ylabel(r\"$\\Delta \\rho$\")\n",
    "\n",
    "plt.legend(lines, labels, frameon=False)\n",
    "plotname =  \"/Users/lilli/Desktop/Thesis/May2024_flare/ddensity.png\"\n",
    "plt.savefig(plotname, dpi=300, bbox_inches=\"tight\", pad_inches=0.1)\n",
    "plt.show()"
   ]
  },
  {
   "cell_type": "code",
   "execution_count": 3,
   "metadata": {},
   "outputs": [],
   "source": [
    "folder = \"/Users/lilli/Desktop/Thesis/May2024_flare/magnetograms\""
   ]
  },
  {
   "cell_type": "code",
   "execution_count": 4,
   "metadata": {},
   "outputs": [],
   "source": [
    "result = Fido.search(\n",
    "    a.Time(\"2024/5/6 14:00:00\", \"2024/5/6 14:01:00\"),\n",
    "    a.Instrument.hmi,\n",
    "    a.Physobs(\"LOS_magnetic_field\"),\n",
    ")"
   ]
  },
  {
   "cell_type": "code",
   "execution_count": null,
   "metadata": {},
   "outputs": [],
   "source": [
    "# result"
   ]
  },
  {
   "cell_type": "code",
   "execution_count": null,
   "metadata": {},
   "outputs": [],
   "source": [
    "# files = Fido.fetch(result[:, 0], path=folder + \"/{file}\")"
   ]
  },
  {
   "cell_type": "code",
   "execution_count": 3,
   "metadata": {},
   "outputs": [],
   "source": [
    "path = \"/Users/lilli/Desktop/Thesis/May2024_flare/magnetograms/hmi_m_45s_2024_05_06_14_01_30_tai_magnetogram.fits\"\n",
    "hmi_image = sunpy.map.Map(path).rotate()"
   ]
  },
  {
   "cell_type": "code",
   "execution_count": null,
   "metadata": {},
   "outputs": [],
   "source": [
    "data2d = Field2dData.from_fits_SDO(path)"
   ]
  },
  {
   "cell_type": "code",
   "execution_count": 5,
   "metadata": {},
   "outputs": [],
   "source": [
    "x_grid, y_grid = np.meshgrid(data2d.x, data2d.y)\n",
    "norm = colors.SymLogNorm(500, vmin=-7.5e2, vmax=7.5e2)"
   ]
  },
  {
   "cell_type": "code",
   "execution_count": null,
   "metadata": {},
   "outputs": [],
   "source": [
    "data2d.bz.min()"
   ]
  },
  {
   "cell_type": "code",
   "execution_count": 6,
   "metadata": {},
   "outputs": [],
   "source": [
    "from matplotlib.patches import Rectangle"
   ]
  },
  {
   "cell_type": "code",
   "execution_count": null,
   "metadata": {},
   "outputs": [],
   "source": [
    "fig = plt.figure()\n",
    "ax = fig.add_subplot(111)\n",
    "C = ax.contourf(\n",
    "    x_grid,\n",
    "    y_grid,\n",
    "    data2d.bz,\n",
    "    100,\n",
    "    cmap=cmap,\n",
    "    # vmin = data3d.lf3D[nresol_y:2*nresol_y, nresol_x:2*nresol_x, iiz, 2].min(),\n",
    "    # vmax = data3d.lf3D[nresol_y:2*nresol_y, nresol_x:2*nresol_x, iiz, 2].max(),\n",
    ")\n",
    "# CS = ax.contour(\n",
    "#     x_grid,\n",
    "#     y_grid,\n",
    "#     data2d.bz,\n",
    "#     levels=(500, 2000),\n",
    "#     colors=[(0.576, 1.000, 0.271)],\n",
    "#     linewidths=1.0,\n",
    "# )\n",
    "ax.text(200, 70, \"A\", color=c5, fontsize=16)\n",
    "# ax.text(115, 65, \"B\", color=(0.576, 1.000, 0.271), fontsize=14)\n",
    "ax.scatter(data2d.x[526], data2d.y[148], s=20, marker='D', facecolors='none', edgecolors=c2)\n",
    "currentAxis = plt.gca()\n",
    "currentAxis.add_patch(\n",
    "    Rectangle(\n",
    "        (170, 30), 65, 70, fill=None, alpha=1, zorder=10, color=c5, lw=1.0\n",
    "    )\n",
    ")\n",
    "\n",
    "ax.set_xlabel(\"x (Mm)\")\n",
    "ax.set_ylabel(\"y (Mm)\")\n",
    "ax.set_box_aspect(1)\n",
    "ax.tick_params(direction=\"in\", length=2, width=0.5)\n",
    "# fig.colorbar(C, shrink=0.5)\n",
    "ax.set_box_aspect(data2d.ny / data2d.nx)\n",
    "plotname =  \"/Users/lilli/Desktop/Thesis/May2024_flare/magnetograms/May6.png\"\n",
    "plt.savefig(plotname, dpi=300, bbox_inches=\"tight\", pad_inches=0.1)\n",
    "plt.show()"
   ]
  },
  {
   "cell_type": "code",
   "execution_count": null,
   "metadata": {},
   "outputs": [],
   "source": [
    "path = \"/Users/lilli/Desktop/Thesis/May2024_flare/magnetograms/hmi_m_45s_2024_05_06_14_01_30_tai_magnetogram.fits\"\n",
    "hmi_image = sunpy.map.Map(path).rotate()\n",
    "top_right = SkyCoord(10 * u.arcsec, -150 * u.arcsec, frame=hmi_image.coordinate_frame)\n",
    "bottom_left = SkyCoord(\n",
    "    -400 * u.arcsec, -350 * u.arcsec, frame=hmi_image.coordinate_frame\n",
    ")\n",
    "hmi_image_cut = hmi_image.submap(bottom_left, top_right=top_right)\n",
    "\n",
    "fig = plt.figure()\n",
    "ax = fig.add_subplot(projection=hmi_image_cut)\n",
    "image = hmi_image_cut.plot(axes=ax, cmap=cmap) #, norm=norm)\n",
    "\n",
    "# Make some room and put the title at the top of the figure\n",
    "# fig.colorbar(image, shrink=0.5)\n",
    "ax.set_title(ax.get_title(), pad=15)\n",
    "ax.tick_params(direction=\"in\", length=2, width=0.5)\n",
    "# plotname = folder + \"/GOES_Xray_avg1m_2024_May_sunspots_6.png\"\n",
    "# plt.savefig(plotname, dpi=300, bbox_inches=\"tight\", pad_inches=0.1)\n",
    "plt.show()"
   ]
  },
  {
   "cell_type": "code",
   "execution_count": null,
   "metadata": {},
   "outputs": [],
   "source": [
    "# result = Fido.search(\n",
    "#     a.Time(\"2024/5/7 14:00:00\", \"2024/5/7 14:01:00\"),\n",
    "#     a.Instrument.hmi,\n",
    "#     a.Physobs(\"LOS_magnetic_field\"),\n",
    "# )\n",
    "# files = Fido.fetch(result[:, 0], path=folder + \"/{file}\")"
   ]
  },
  {
   "cell_type": "code",
   "execution_count": null,
   "metadata": {},
   "outputs": [],
   "source": [
    "path = \"/Users/lilli/Desktop/Thesis/May2024_flare/magnetograms/hmi_m_45s_2024_05_07_14_01_30_tai_magnetogram.fits\"\n",
    "hmi_image = sunpy.map.Map(path).rotate()\n",
    "top_right = SkyCoord(220 * u.arcsec, -170 * u.arcsec, frame=hmi_image.coordinate_frame)\n",
    "bottom_left = SkyCoord(\n",
    "    -190 * u.arcsec, -370 * u.arcsec, frame=hmi_image.coordinate_frame\n",
    ")\n",
    "hmi_image_cut = hmi_image.submap(bottom_left, top_right=top_right)\n",
    "\n",
    "fig = plt.figure()\n",
    "ax = fig.add_subplot(projection=hmi_image_cut)\n",
    "image = hmi_image_cut.plot(axes=ax, cmap=cmap, norm=norm)\n",
    "\n",
    "# Make some room and put the title at the top of the figure\n",
    "# fig.colorbar(image, shrink=0.5)\n",
    "ax.set_title(ax.get_title(), pad=15)\n",
    "ax.tick_params(direction=\"in\", length=2, width=0.5)\n",
    "plotname = folder + \"/GOES_Xray_avg1m_2024_May_sunspots_7.png\"\n",
    "plt.savefig(plotname, dpi=300, bbox_inches=\"tight\", pad_inches=0.1)\n",
    "plt.show()"
   ]
  },
  {
   "cell_type": "code",
   "execution_count": null,
   "metadata": {},
   "outputs": [],
   "source": [
    "# result = Fido.search(\n",
    "#     a.Time(\"2024/5/8 14:00:00\", \"2024/5/8 14:01:00\"),\n",
    "#     a.Instrument.hmi,\n",
    "#     a.Physobs(\"LOS_magnetic_field\"),\n",
    "# )\n",
    "# files = Fido.fetch(result[:, 0], path=folder + \"/{file}\")"
   ]
  },
  {
   "cell_type": "code",
   "execution_count": null,
   "metadata": {},
   "outputs": [],
   "source": [
    "path = \"/Users/lilli/Desktop/Thesis/May2024_flare/magnetograms/hmi_m_45s_2024_05_08_14_01_30_tai_magnetogram.fits\"\n",
    "hmi_image = sunpy.map.Map(path).rotate()\n",
    "top_right = SkyCoord(430 * u.arcsec, -170 * u.arcsec, frame=hmi_image.coordinate_frame)\n",
    "bottom_left = SkyCoord(20 * u.arcsec, -370 * u.arcsec, frame=hmi_image.coordinate_frame)\n",
    "hmi_image_cut = hmi_image.submap(bottom_left, top_right=top_right)\n",
    "\n",
    "fig = plt.figure()\n",
    "ax = fig.add_subplot(projection=hmi_image_cut)\n",
    "image = hmi_image_cut.plot(axes=ax, cmap=cmap, norm=norm)\n",
    "\n",
    "# Make some room and put the title at the top of the figure\n",
    "# fig.colorbar(image, shrink=0.5)\n",
    "ax.set_title(ax.get_title(), pad=15)\n",
    "ax.tick_params(direction=\"in\", length=2, width=0.5)\n",
    "plotname = folder + \"/GOES_Xray_avg1m_2024_May_sunspots_8.png\"\n",
    "plt.savefig(plotname, dpi=300, bbox_inches=\"tight\", pad_inches=0.1)\n",
    "plt.show()"
   ]
  },
  {
   "cell_type": "code",
   "execution_count": null,
   "metadata": {},
   "outputs": [],
   "source": [
    "data2d = Field2dData.from_fits_SDO(\"/Users/lilli/Desktop/Thesis/May2024_flare/magnetograms/hmi_m_45s_2024_05_07_14_01_30_tai_magnetogram.fits\")\n"
   ]
  },
  {
   "cell_type": "code",
   "execution_count": null,
   "metadata": {},
   "outputs": [],
   "source": [
    "x_grid, y_grid = np.meshgrid(data2d.x, data2d.y)\n",
    "\n",
    "fig = plt.figure()\n",
    "ax = fig.add_subplot(111)\n",
    "C = ax.contourf(\n",
    "    x_grid,\n",
    "    y_grid,\n",
    "    data2d.bz,\n",
    "    100,\n",
    "    cmap=cmap,\n",
    "    # vmin = data3d.lf3D[nresol_y:2*nresol_y, nresol_x:2*nresol_x, iiz, 2].min(),\n",
    "    # vmax = data3d.lf3D[nresol_y:2*nresol_y, nresol_x:2*nresol_x, iiz, 2].max(),\n",
    ")\n",
    "# CS = ax.contour(\n",
    "#     x_grid,\n",
    "#     y_grid,\n",
    "#     data2d.bz,\n",
    "#     levels=(500, 2000),\n",
    "#     colors=[(0.576, 1.000, 0.271)],\n",
    "#     linewidths=1.0,\n",
    "# )\n",
    "ax.text(200, 80, \"A\", color=c5, fontsize=16)\n",
    "ax.text(95, 100, \"B\", color=c9, fontsize=14)\n",
    "ax.scatter(data2d.x[511], data2d.y[190], s=20, marker='D', facecolors='none', edgecolors=c2)\n",
    "currentAxis = plt.gca()\n",
    "currentAxis.add_patch(\n",
    "    Rectangle(\n",
    "        (170, 50), 65, 70, fill=None, alpha=1, zorder=10, color=c5, lw=1.0\n",
    "    )\n",
    ")\n",
    "\n",
    "currentAxis = plt.gca()\n",
    "currentAxis.add_patch(\n",
    "    Rectangle(\n",
    "        (90, 90), 70, 20, fill=None, alpha=1, zorder=10, color=c9, lw=1.0\n",
    "    )\n",
    ")\n",
    "\n",
    "ax.set_xlabel(\"x (Mm)\")\n",
    "ax.set_ylabel(\"y (Mm)\")\n",
    "ax.set_box_aspect(1)\n",
    "ax.tick_params(direction=\"in\", length=2, width=0.5)\n",
    "# fig.colorbar(C, shrink=0.5)\n",
    "ax.set_box_aspect(data2d.ny / data2d.nx)\n",
    "plotname =  \"/Users/lilli/Desktop/Thesis/May2024_flare/magnetograms/May7.png\"\n",
    "plt.savefig(plotname, dpi=300, bbox_inches=\"tight\", pad_inches=0.1)\n",
    "plt.show()"
   ]
  },
  {
   "cell_type": "code",
   "execution_count": null,
   "metadata": {},
   "outputs": [],
   "source": [
    "data2d = Field2dData.from_fits_SDO(\"/Users/lilli/Desktop/Thesis/May2024_flare/magnetograms/hmi_m_45s_2024_05_08_14_01_30_tai_magnetogram.fits\")"
   ]
  },
  {
   "cell_type": "code",
   "execution_count": null,
   "metadata": {},
   "outputs": [],
   "source": [
    "x_grid, y_grid = np.meshgrid(data2d.x, data2d.y)\n",
    "\n",
    "fig = plt.figure()\n",
    "ax = fig.add_subplot(111)\n",
    "C = ax.contourf(\n",
    "    x_grid,\n",
    "    y_grid,\n",
    "    data2d.bz,\n",
    "    100,\n",
    "    cmap=cmap,\n",
    "    # vmin = data3d.lf3D[nresol_y:2*nresol_y, nresol_x:2*nresol_x, iiz, 2].min(),\n",
    "    # vmax = data3d.lf3D[nresol_y:2*nresol_y, nresol_x:2*nresol_x, iiz, 2].max(),\n",
    ")\n",
    "# CS = ax.contour(\n",
    "#     x_grid,\n",
    "#     y_grid,\n",
    "#     data2d.bz,\n",
    "#     levels=(500, 2000),\n",
    "#     colors=[(0.576, 1.000, 0.271)],\n",
    "#     linewidths=1.0,\n",
    "# )\n",
    "ax.text(200, 80, \"A\", color=c5, fontsize=16)\n",
    "ax.text(75, 100, \"B\", color=c9, fontsize=14)\n",
    "ax.scatter(data2d.x[481], data2d.y[205], s=20, marker='D', facecolors='none', edgecolors=c2)\n",
    "currentAxis = plt.gca()\n",
    "currentAxis.add_patch(\n",
    "    Rectangle(\n",
    "        (170, 50), 65, 70, fill=None, alpha=1, zorder=10, color=c5, lw=1.0\n",
    "    )\n",
    ")\n",
    "\n",
    "currentAxis = plt.gca()\n",
    "currentAxis.add_patch(\n",
    "    Rectangle(\n",
    "        (70, 70), 90, 40, fill=None, alpha=1, zorder=10, color=c9, lw=1.0\n",
    "    )\n",
    ")\n",
    "\n",
    "ax.set_xlabel(\"x (Mm)\")\n",
    "ax.set_ylabel(\"y (Mm)\")\n",
    "ax.set_box_aspect(1)\n",
    "ax.tick_params(direction=\"in\", length=2, width=0.5)\n",
    "# fig.colorbar(C, shrink=0.5)\n",
    "ax.set_box_aspect(data2d.ny / data2d.nx)\n",
    "plotname =  \"/Users/lilli/Desktop/Thesis/May2024_flare/magnetograms/May8.png\"\n",
    "plt.savefig(plotname, dpi=300, bbox_inches=\"tight\", pad_inches=0.1)\n",
    "plt.show()"
   ]
  },
  {
   "cell_type": "code",
   "execution_count": 4,
   "metadata": {},
   "outputs": [
    {
     "name": "stdout",
     "output_type": "stream",
     "text": [
      "arcsec arcsec 0.504046 0.504046\n",
      "2.443681671636002e-06 2.443681671636002e-06\n",
      "151040889195.77\n",
      "151040.88919577\n",
      "0.36909585259530736 0.36909585259530736\n"
     ]
    }
   ],
   "source": [
    "data2d = Field2dData.from_fits_SDO(\"/Users/lilli/Desktop/Thesis/May2024_flare/magnetograms/hmi_m_45s_2024_05_09_14_01_30_tai_magnetogram.fits\")"
   ]
  },
  {
   "cell_type": "code",
   "execution_count": 16,
   "metadata": {},
   "outputs": [
    {
     "data": {
      "image/png": "[encoded data removed]",
      "text/plain": [
       "<Figure size 640x480 with 1 Axes>"
      ]
     },
     "metadata": {},
     "output_type": "display_data"
    }
   ],
   "source": [
    "x_grid, y_grid = np.meshgrid(data2d.x, data2d.y)\n",
    "\n",
    "fig = plt.figure()\n",
    "ax = fig.add_subplot(111)\n",
    "C = ax.contourf(\n",
    "    x_grid,\n",
    "    y_grid,\n",
    "    data2d.bz,\n",
    "    100,\n",
    "    cmap=cmap,\n",
    "    # vmin = data3d.lf3D[nresol_y:2*nresol_y, nresol_x:2*nresol_x, iiz, 2].min(),\n",
    "    # vmax = data3d.lf3D[nresol_y:2*nresol_y, nresol_x:2*nresol_x, iiz, 2].max(),\n",
    ")\n",
    "# CS = ax.contour(\n",
    "#     x_grid,\n",
    "#     y_grid,\n",
    "#     data2d.bz,\n",
    "#     levels=(500, 2000),\n",
    "#     colors=[(0.576, 1.000, 0.271)],\n",
    "#     linewidths=1.0,\n",
    "# )\n",
    "ax.text(200, 80, r\"A\", color=c5, fontsize=16)\n",
    "ax.text(62, 90, r\"B$^*$\", color=c9, fontsize=14)\n",
    "ax.scatter(data2d.x[215], data2d.y[225], s=20, marker='D', facecolors='none', edgecolors=c2)\n",
    "currentAxis = plt.gca()\n",
    "currentAxis.add_patch(\n",
    "    Rectangle(\n",
    "        (150, 45), 65, 70, fill=None, alpha=1, zorder=10, color=c5, lw=1.0\n",
    "    )\n",
    ")\n",
    "\n",
    "currentAxis = plt.gca()\n",
    "currentAxis.add_patch(\n",
    "    Rectangle(\n",
    "        (60, 60), 40, 40, fill=None, alpha=1, zorder=10, color=c9, lw=1.0\n",
    "    )\n",
    ")\n",
    "\n",
    "ax.set_xlabel(\"x (Mm)\")\n",
    "ax.set_ylabel(\"y (Mm)\")\n",
    "ax.set_box_aspect(1)\n",
    "ax.tick_params(direction=\"in\", length=2, width=0.5)\n",
    "# fig.colorbar(C, shrink=0.5)\n",
    "ax.set_box_aspect(data2d.ny / data2d.nx)\n",
    "plotname =  \"/Users/lilli/Desktop/Thesis/May2024_flare/magnetograms/May9.png\"\n",
    "plt.savefig(plotname, dpi=300, bbox_inches=\"tight\", pad_inches=0.1)\n",
    "plt.show()"
   ]
  },
  {
   "cell_type": "code",
   "execution_count": null,
   "metadata": {},
   "outputs": [],
   "source": [
    "# result = Fido.search(\n",
    "#     a.Time(\"2024/5/9 14:00:00\", \"2024/5/9 14:01:00\"),\n",
    "#     a.Instrument.hmi,\n",
    "#     a.Physobs(\"LOS_magnetic_field\"),\n",
    "# )\n",
    "# files = Fido.fetch(result[:, 0], path=folder + \"/{file}\")"
   ]
  },
  {
   "cell_type": "code",
   "execution_count": 92,
   "metadata": {},
   "outputs": [],
   "source": [
    "path = \"/Users/lilli/Desktop/Thesis/May2024_flare/magnetograms/hmi_m_45s_2024_05_09_14_01_30_tai_magnetogram.fits\"\n",
    "data2d = Field2dData.from_fits_SDO(path)"
   ]
  },
  {
   "cell_type": "code",
   "execution_count": null,
   "metadata": {},
   "outputs": [],
   "source": [
    "data2d.bz.shape"
   ]
  },
  {
   "cell_type": "code",
   "execution_count": null,
   "metadata": {},
   "outputs": [],
   "source": [
    "path = \"/Users/lilli/Desktop/Thesis/May2024_flare/magnetograms/hmi_m_45s_2024_05_09_14_01_30_tai_magnetogram.fits\"\n",
    "hmi_image = sunpy.map.Map(path).rotate()\n",
    "top_right = SkyCoord(630 * u.arcsec, -170 * u.arcsec, frame=hmi_image.coordinate_frame)\n",
    "bottom_left = SkyCoord(220 * u.arcsec, -370 * u.arcsec, frame=hmi_image.coordinate_frame)\n",
    "hmi_image_cut = hmi_image.submap(bottom_left, top_right=top_right)\n",
    "\n",
    "fig = plt.figure()\n",
    "ax = fig.add_subplot(projection=hmi_image_cut)\n",
    "image = hmi_image_cut.plot(axes=ax, cmap=cmap, norm=norm)\n",
    "\n",
    "# Make some room and put the title at the top of the figure\n",
    "# fig.colorbar(image, shrink=0.5)\n",
    "ax.set_title(ax.get_title(), pad=15)\n",
    "ax.tick_params(direction=\"in\", length=2, width=0.5)\n",
    "plotname = folder + \"/GOES_Xray_avg1m_2024_May_sunspots_9.png\"\n",
    "plt.savefig(plotname, dpi=300, bbox_inches=\"tight\", pad_inches=0.1)\n",
    "plt.show()"
   ]
  },
  {
   "cell_type": "code",
   "execution_count": null,
   "metadata": {},
   "outputs": [],
   "source": [
    "result = Fido.search(\n",
    "    a.Time(\"2024/05/6 06:11:00\", \"2024/5/6 06:12:30\"),\n",
    "    a.Instrument.hmi,\n",
    "    a.Physobs(\"LOS_magnetic_field\"),\n",
    ")\n",
    "files = Fido.fetch(result[:, 0], path=folder + \"/{file}\")"
   ]
  },
  {
   "cell_type": "code",
   "execution_count": null,
   "metadata": {},
   "outputs": [],
   "source": [
    "path = \"/Users/lilli/Desktop/Thesis/May2024_flare/magnetograms/hmi_m_45s_2024_05_06_06_12_00_tai_magnetogram.fits\"\n",
    "hmi_image = sunpy.map.Map(path).rotate()\n",
    "top_right = SkyCoord(0 * u.arcsec, -150 * u.arcsec, frame=hmi_image.coordinate_frame)\n",
    "bottom_left = SkyCoord(\n",
    "    -400 * u.arcsec, -350 * u.arcsec, frame=hmi_image.coordinate_frame\n",
    ")\n",
    "hmi_image_cut = hmi_image.submap(bottom_left, top_right=top_right)\n",
    "\n",
    "fig = plt.figure()\n",
    "ax = fig.add_subplot(projection=hmi_image_cut)\n",
    "image = hmi_image_cut.plot(axes=ax, cmap=cmap, norm=norm)\n",
    "\n",
    "# Make some room and put the title at the top of the figure\n",
    "# fig.colorbar(image, shrink=0.5)\n",
    "ax.set_title(ax.get_title(), pad=15)\n",
    "ax.tick_params(direction=\"in\", length=2, width=0.5)\n",
    "plotname = folder + \"/GOES_Xray_avg1m_2024_May_6_before.png\"\n",
    "plt.savefig(plotname, dpi=300, bbox_inches=\"tight\", pad_inches=0.1)\n",
    "plt.show()"
   ]
  },
  {
   "cell_type": "code",
   "execution_count": null,
   "metadata": {},
   "outputs": [],
   "source": [
    "result = Fido.search(\n",
    "    a.Time(\"2024/05/6 16:48:00\", \"2024/5/6 16:49:0\"),\n",
    "    a.Instrument.hmi,\n",
    "    a.Physobs(\"LOS_magnetic_field\"),\n",
    ")\n",
    "files = Fido.fetch(result[:, 0], path=folder + \"/{file}\")"
   ]
  },
  {
   "cell_type": "code",
   "execution_count": null,
   "metadata": {},
   "outputs": [],
   "source": [
    "path = \"/Users/lilli/Desktop/Thesis/May2024_flare/magnetograms/hmi_m_45s_2024_05_06_16_49_30_tai_magnetogram.fits\"\n",
    "hmi_image = sunpy.map.Map(path).rotate()\n",
    "top_right = SkyCoord(100 * u.arcsec, -150 * u.arcsec, frame=hmi_image.coordinate_frame)\n",
    "bottom_left = SkyCoord(\n",
    "    -300 * u.arcsec, -350 * u.arcsec, frame=hmi_image.coordinate_frame\n",
    ")\n",
    "hmi_image_cut = hmi_image.submap(bottom_left, top_right=top_right)\n",
    "\n",
    "fig = plt.figure()\n",
    "ax = fig.add_subplot(projection=hmi_image_cut)\n",
    "image = hmi_image_cut.plot(axes=ax, cmap=cmap, norm=norm)\n",
    "\n",
    "# Make some room and put the title at the top of the figure\n",
    "# fig.colorbar(image, shrink=0.5)\n",
    "ax.set_title(ax.get_title(), pad=15)\n",
    "ax.tick_params(direction=\"in\", length=2, width=0.5)\n",
    "plotname = folder + \"/GOES_Xray_avg1m_2024_May_6_after.png\"\n",
    "plt.savefig(plotname, dpi=300, bbox_inches=\"tight\", pad_inches=0.1)\n",
    "plt.show()"
   ]
  },
  {
   "cell_type": "code",
   "execution_count": null,
   "metadata": {},
   "outputs": [],
   "source": [
    "data2d_before = Field2dData.from_fits_SDO(\"/Users/lilli/Desktop/Thesis/May2024_flare/magnetograms/hmi_m_45s_2024_05_06_06_12_00_tai_magnetogram.fits\")"
   ]
  },
  {
   "cell_type": "code",
   "execution_count": null,
   "metadata": {},
   "outputs": [],
   "source": [
    "data2d_after = Field2dData.from_fits_SDO(\"/Users/lilli/Desktop/Thesis/May2024_flare/magnetograms/hmi_m_45s_2024_05_06_16_49_30_tai_magnetogram.fits\")"
   ]
  },
  {
   "cell_type": "code",
   "execution_count": 31,
   "metadata": {},
   "outputs": [],
   "source": [
    "data3d_before = calculate_magfield(data2d_before, a, 1.0, alpha, 2.0, 0.2)"
   ]
  },
  {
   "cell_type": "code",
   "execution_count": 6,
   "metadata": {},
   "outputs": [],
   "source": [
    "path2save = \"/Users/lilli/Desktop/Thesis/May2024_flare/data_before_mhs\"\n",
    "# data3d_before.save(path2save)\n",
    "data3d_before = Field3dData.load(\"/Users/lilli/Desktop/Thesis/May2024_flare/data_before_mhs\")"
   ]
  },
  {
   "cell_type": "code",
   "execution_count": 7,
   "metadata": {},
   "outputs": [],
   "source": [
    "np.save(\"/Users/lilli/Desktop/Thesis/May2024_flare/dp_before.npy\", data3d_before.dpressure)"
   ]
  },
  {
   "cell_type": "code",
   "execution_count": 8,
   "metadata": {},
   "outputs": [],
   "source": [
    "np.save(\"/Users/lilli/Desktop/Thesis/May2024_flare/dd_before.npy\", data3d_before.ddensity)"
   ]
  },
  {
   "cell_type": "code",
   "execution_count": 9,
   "metadata": {},
   "outputs": [],
   "source": [
    "data3d_after = calculate_magfield(data2d_after, a, 1.0, alpha, 2.0, 0.2)"
   ]
  },
  {
   "cell_type": "code",
   "execution_count": 9,
   "metadata": {},
   "outputs": [],
   "source": [
    "path2save = \"/Users/lilli/Desktop/Thesis/May2024_flare/data_after_mhs\"\n",
    "# data3d_after.save(path2save)\n",
    "data3d_after = Field3dData.load(\"/Users/lilli/Desktop/Thesis/May2024_flare/data_after_mhs\")"
   ]
  },
  {
   "cell_type": "code",
   "execution_count": 10,
   "metadata": {},
   "outputs": [],
   "source": [
    "np.save(\"/Users/lilli/Desktop/Thesis/May2024_flare/dp_after.npy\", data3d_after.dpressure)"
   ]
  },
  {
   "cell_type": "code",
   "execution_count": 11,
   "metadata": {},
   "outputs": [],
   "source": [
    "np.save(\"/Users/lilli/Desktop/Thesis/May2024_flare/dd_after.npy\", data3d_after.ddensity)"
   ]
  },
  {
   "cell_type": "code",
   "execution_count": null,
   "metadata": {},
   "outputs": [],
   "source": [
    "folder = \"/Users/lilli/Desktop/Thesis/May2024_flare/data_before_mhs\"\n",
    "\n",
    "plot(data3d_before, view=\"los\", save=True, path=folder)"
   ]
  },
  {
   "cell_type": "code",
   "execution_count": null,
   "metadata": {},
   "outputs": [],
   "source": [
    "folder = \"/Users/lilli/Desktop/Thesis/May2024_flare/data_after_mhs\"\n",
    "\n",
    "plot(data3d_after, view=\"side\", save=True, path=folder)"
   ]
  },
  {
   "cell_type": "code",
   "execution_count": 4,
   "metadata": {},
   "outputs": [],
   "source": [
    "# ix_max6 = np.unravel_index(data3d_6May.bz.argmax(), data3d_6May.bz.shape)[1]\n",
    "# iy_max6 = np.unravel_index(data3d_6May.bz.argmax(), data3d_6May.bz.shape)[0]\n",
    "\n",
    "ix_max7 = np.unravel_index(data3d_7May.bz.argmax(), data3d_7May.bz.shape)[1]\n",
    "iy_max7 = np.unravel_index(data3d_7May.bz.argmax(), data3d_7May.bz.shape)[0]\n",
    "\n",
    "# ix_max8 = np.unravel_index(data3d_8May.bz.argmax(), data3d_8May.bz.shape)[1]\n",
    "# iy_max8 = np.unravel_index(data3d_8May.bz.argmax(), data3d_8May.bz.shape)[0]\n",
    "\n",
    "# ix_max9 = np.unravel_index(data3d_9May.bz.argmax(), data3d_9May.bz.shape)[1]\n",
    "# iy_max9 = np.unravel_index(data3d_9May.bz.argmax(), data3d_9May.bz.shape)[0]\n",
    "\n",
    "# ix_maxb = np.unravel_index(data3d_before.bz.argmax(), data3d_before.bz.shape)[1]\n",
    "# iy_maxb = np.unravel_index(data3d_before.bz.argmax(), data3d_before.bz.shape)[0]\n",
    "\n",
    "# ix_maxa = np.unravel_index(data3d_after.bz.argmax(), data3d_after.bz.shape)[1]\n",
    "# iy_maxa = np.unravel_index(data3d_after.bz.argmax(), data3d_after.bz.shape)[0]"
   ]
  },
  {
   "cell_type": "code",
   "execution_count": null,
   "metadata": {},
   "outputs": [],
   "source": [
    "print(iy_max7, ix_max7)"
   ]
  },
  {
   "cell_type": "code",
   "execution_count": null,
   "metadata": {},
   "outputs": [],
   "source": [
    "data3d_7May.bz.max()"
   ]
  },
  {
   "cell_type": "code",
   "execution_count": null,
   "metadata": {},
   "outputs": [],
   "source": []
  }
 ],
 "metadata": {
  "kernelspec": {
   "display_name": "mflex-cNoQEf_u-py3.12",
   "language": "python",
   "name": "python3"
  },
  "language_info": {
   "codemirror_mode": {
    "name": "ipython",
    "version": 3
   },
   "file_extension": ".py",
   "mimetype": "text/x-python",
   "name": "python",
   "nbconvert_exporter": "python",
   "pygments_lexer": "ipython3",
   "version": "3.12.4"
  }
 },
 "nbformat": 4,
 "nbformat_minor": 2
}
