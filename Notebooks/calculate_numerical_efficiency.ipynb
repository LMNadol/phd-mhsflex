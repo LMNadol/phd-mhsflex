{
 "cells": [
  {
   "cell_type": "code",
   "execution_count": 1,
   "metadata": {},
   "outputs": [],
   "source": [
    "%load_ext autoreload\n",
    "%autoreload 2"
   ]
  },
  {
   "cell_type": "code",
   "execution_count": 2,
   "metadata": {},
   "outputs": [
    {
     "name": "stderr",
     "output_type": "stream",
     "text": [
      "/Users/lilli/Library/Caches/pypoetry/virtualenvs/mflex-cNoQEf_u-py3.12/lib/python3.12/site-packages/tqdm/auto.py:21: TqdmWarning: IProgress not found. Please update jupyter and ipywidgets. See https://ipywidgets.readthedocs.io/en/stable/user_install.html\n",
      "  from .autonotebook import tqdm as notebook_tqdm\n"
     ]
    }
   ],
   "source": [
    "from __future__ import annotations\n",
    "import numpy as np\n",
    "\n",
    "from mflex.simulate.simulate_boundary import dipole\n",
    "\n",
    "from mhsflex.field2d import Field2dData\n",
    "from mhsflex.field3d import Field3dData, calculate_magfield, lf3d, j3d\n",
    "from mhsflex.vis import plot\n",
    "from mhsflex.metrics import compare_field3d\n",
    "import scipy\n",
    "from matplotlib import rc, colors\n",
    "import matplotlib.pyplot as plt\n",
    "\n",
    "from mhsflex.poloidal import (\n",
    "    phi,\n",
    "    phi_low,\n",
    "    phi_hypgeo,\n",
    "    dphidz_hypgeo,\n",
    "    dphidz,\n",
    "    dphidz_low,\n",
    ")\n",
    "\n",
    "from mhsflex.b3d import b3d\n",
    "\n",
    "from mhsflex.fluxbalance import b3d_fb\n",
    "\n",
    "rc(\"font\", **{\"family\": \"serif\", \"serif\": [\"Times\"]})\n",
    "rc(\"text\", usetex=True)\n",
    "c1 = (0.439, 0.788, 1.000)\n",
    "c2 = (0.420, 0.502, 1.000)\n",
    "c3 = \"black\"\n",
    "c4 = (1.000, 0.224, 0.376)\n",
    "c5 = (0.784, 0.231, 0.576)\n",
    "c7 = (0.992, 0.251, 0.733)\n",
    "c8 = (0.867, 0.871, 0.184)\n",
    "c9 = (0.949, 0.922, 0.678)\n",
    "c10 = (0.984, 0.455, 0.231)\n",
    "c11 = (0.765, 0.835, 0.922)\n",
    "c12 = (0.965, 0.694, 0.486)\n",
    "c13 = (0.992, 0.584, 0.820)"
   ]
  },
  {
   "cell_type": "code",
   "execution_count": 3,
   "metadata": {},
   "outputs": [],
   "source": [
    "nresol_x = 400\n",
    "nresol_y = nresol_x\n",
    "nresol_z = 400\n",
    "xmin = 0.0\n",
    "xmax = 20.0  # in units of 10^4 km, therefore corresponds to 20Mm\n",
    "ymin = 0.0\n",
    "ymax = 20.0\n",
    "zmin = 0.0\n",
    "zmax = 20.0\n",
    "pixelsize_x = (xmax - xmin) / nresol_x\n",
    "pixelsize_y = (ymax - ymin) / nresol_y\n",
    "pixelsize_z = (zmax - zmin) / nresol_z\n",
    "\n",
    "z0 = 2.0\n",
    "\n",
    "nf_max = nresol_x\n",
    "\n",
    "z_arr = np.arange(nresol_z) * (zmax - zmin) / (nresol_z - 1) + zmin\n",
    "x_arr = np.arange(nresol_x) * (xmax - xmin) / (nresol_x - 1) + xmin\n",
    "y_arr = np.arange(nresol_y) * (ymax - ymin) / (nresol_y - 1) + ymin\n",
    "B_PHOTO = 500\n",
    "data_bz = np.zeros((nresol_y, nresol_x))\n",
    "\n",
    "for ix in range(0, nresol_x):\n",
    "    for iy in range(0, nresol_y):\n",
    "        x = x_arr[ix]\n",
    "        y = y_arr[iy]\n",
    "        data_bz[iy, ix] = dipole(x, y) * B_PHOTO\n",
    "\n",
    "data2d = Field2dData(\n",
    "    nresol_x,\n",
    "    nresol_y,\n",
    "    nresol_z,\n",
    "    nresol_x,\n",
    "    pixelsize_x,\n",
    "    pixelsize_y,\n",
    "    pixelsize_z,\n",
    "    x_arr,\n",
    "    y_arr,\n",
    "    z_arr,\n",
    "    data_bz,\n",
    ")"
   ]
  },
  {
   "cell_type": "code",
   "execution_count": 3,
   "metadata": {},
   "outputs": [],
   "source": [
    "a = 0.22\n",
    "alpha = 0.05\n",
    "b = 1.0\n",
    "z0 = 2.0\n",
    "deltaz = 0.2"
   ]
  },
  {
   "cell_type": "code",
   "execution_count": 5,
   "metadata": {},
   "outputs": [],
   "source": [
    "length_scale = float(2.0)  # Normalising length scale for Seehafer\n",
    "\n",
    "length_scale_x = 2.0 * nresol_x * data2d.px\n",
    "length_scale_y = 2.0 * nresol_y * data2d.py\n",
    "\n",
    "length_scale_x_norm = length_scale_x / length_scale\n",
    "length_scale_y_norm = length_scale_y / length_scale\n",
    "\n",
    "kx_arr = np.arange(data2d.nf) * np.pi / length_scale_x_norm  # [0:nf_max]\n",
    "ky_arr = np.arange(data2d.nf) * np.pi / length_scale_y_norm  # [0:nf_max]\n",
    "one_arr = 0.0 * np.arange(data2d.nf) + 1.0\n",
    "\n",
    "ky_grid = np.outer(ky_arr, one_arr)  # [0:nf_max, 0:nf_max]\n",
    "kx_grid = np.outer(one_arr, kx_arr)  # [0:nf_max, 0:nf_max]\n",
    "\n",
    "# kx^2 + ky^2\n",
    "\n",
    "k2_arr = np.outer(ky_arr**2, one_arr) + np.outer(one_arr, kx_arr**2)\n",
    "k2_arr[0, 0] = (np.pi / length_scale_x_norm) ** 2 + (np.pi / length_scale_y_norm) ** 2\n",
    "k2_arr[1, 0] = (np.pi / length_scale_x_norm) ** 2 + (np.pi / length_scale_y_norm) ** 2\n",
    "k2_arr[0, 1] = (np.pi / length_scale_x_norm) ** 2 + (np.pi / length_scale_y_norm) ** 2\n",
    "\n",
    "# Need k^2 > alpha^2/(1-2a) and k^2 > alpha^2\n",
    "\n",
    "limit = (k2_arr - alpha**2) / (2 * k2_arr)"
   ]
  },
  {
   "cell_type": "code",
   "execution_count": 6,
   "metadata": {},
   "outputs": [],
   "source": [
    "phi_asymp = np.zeros((nf_max, nf_max, nresol_z))\n",
    "dphidz_asymp = np.zeros((nf_max, nf_max, nresol_z))\n",
    "phi_hyper = np.zeros((nf_max, nf_max, nresol_z))\n",
    "dphidz_hyper = np.zeros((nf_max, nf_max, nresol_z))"
   ]
  },
  {
   "cell_type": "code",
   "execution_count": 7,
   "metadata": {},
   "outputs": [],
   "source": [
    "deltaz = 0.2\n",
    "\n",
    "p_arr = (\n",
    "    0.5 * deltaz * np.sqrt(k2_arr[0:nf_max, 0:nf_max] * (1.0 - a - a * b) - alpha**2)\n",
    ")\n",
    "q_arr = (\n",
    "    0.5 * deltaz * np.sqrt(k2_arr[0:nf_max, 0:nf_max] * (1.0 - a + a * b) - alpha**2)\n",
    ")"
   ]
  },
  {
   "cell_type": "code",
   "execution_count": 8,
   "metadata": {},
   "outputs": [],
   "source": [
    "def check_runtime_pa():\n",
    "    for iz, z in enumerate(z_arr):\n",
    "        phi_asymp[:, :, iz] = phi(z, p_arr, q_arr, z0, deltaz)"
   ]
  },
  {
   "cell_type": "code",
   "execution_count": null,
   "metadata": {},
   "outputs": [],
   "source": [
    "%timeit -n 100 -r 10 check_runtime_pa()"
   ]
  },
  {
   "cell_type": "code",
   "execution_count": 9,
   "metadata": {},
   "outputs": [],
   "source": [
    "def check_runtime_ph():\n",
    "    for iz, z in enumerate(z_arr):\n",
    "        phi_hyper[:, :, iz] = phi_hypgeo(z, p_arr, q_arr, z0, deltaz)"
   ]
  },
  {
   "cell_type": "code",
   "execution_count": null,
   "metadata": {},
   "outputs": [],
   "source": [
    "%timeit -n 100 -r 10 check_runtime_ph()"
   ]
  },
  {
   "cell_type": "code",
   "execution_count": 10,
   "metadata": {},
   "outputs": [],
   "source": [
    "def check_runtime_dpa():\n",
    "    for iz, z in enumerate(z_arr):\n",
    "        dphidz_asymp[:, :, iz] = dphidz(z, p_arr, q_arr, z0, deltaz)"
   ]
  },
  {
   "cell_type": "code",
   "execution_count": null,
   "metadata": {},
   "outputs": [],
   "source": [
    "%timeit -n 100 -r 10 check_runtime_dpa()"
   ]
  },
  {
   "cell_type": "code",
   "execution_count": 8,
   "metadata": {},
   "outputs": [],
   "source": [
    "def check_runtime_dph():\n",
    "    for iz, z in enumerate(z_arr):\n",
    "        dphidz_hyper[:, :, iz] = dphidz_hypgeo(z, p_arr, q_arr, z0, deltaz)"
   ]
  },
  {
   "cell_type": "code",
   "execution_count": 10,
   "metadata": {},
   "outputs": [
    {
     "name": "stdout",
     "output_type": "stream",
     "text": [
      "23.2 s ± 19.5 ms per loop (mean ± std. dev. of 10 runs, 100 loops each)\n"
     ]
    }
   ],
   "source": [
    "%timeit -n 100 -r 10 check_runtime_dph()"
   ]
  },
  {
   "cell_type": "code",
   "execution_count": 4,
   "metadata": {},
   "outputs": [],
   "source": [
    "def check_runtime_b_asymptotic_seehafer():\n",
    "    b3d(data2d, a, b, alpha, z0, deltaz, asymptotic=True, tanh=True)"
   ]
  },
  {
   "cell_type": "code",
   "execution_count": 5,
   "metadata": {},
   "outputs": [],
   "source": [
    "def check_runtime_b_asymptotic_balanced():\n",
    "    b3d_fb(data2d, a, b, alpha, z0, deltaz, asymptotic=True, tanh=True)"
   ]
  },
  {
   "cell_type": "code",
   "execution_count": 6,
   "metadata": {},
   "outputs": [],
   "source": [
    "def check_runtime_b_nw_seehafer():\n",
    "    b3d(data2d, a, b, alpha, z0, deltaz, asymptotic=False, tanh=True)"
   ]
  },
  {
   "cell_type": "code",
   "execution_count": 7,
   "metadata": {},
   "outputs": [],
   "source": [
    "def check_runtime_b_nw_balanced():\n",
    "    b3d_fb(data2d, a, b, alpha, z0, deltaz, asymptotic=False, tanh=True)"
   ]
  },
  {
   "cell_type": "code",
   "execution_count": 8,
   "metadata": {},
   "outputs": [],
   "source": [
    "nresol_x = 2048\n",
    "nresol_y = nresol_x\n",
    "nresol_z = 200\n",
    "xmin = 0.0\n",
    "xmax = 20.0  # in units of 10^4 km, therefore corresponds to 20Mm\n",
    "ymin = 0.0\n",
    "ymax = 20.0\n",
    "zmin = 0.0\n",
    "zmax = 20.0\n",
    "pixelsize_x = (xmax - xmin) / nresol_x\n",
    "pixelsize_y = (ymax - ymin) / nresol_y\n",
    "pixelsize_z = (zmax - zmin) / nresol_z\n",
    "\n",
    "z0 = 2.0\n",
    "\n",
    "nf_max = nresol_x\n",
    "\n",
    "z_arr = np.arange(nresol_z) * (zmax - zmin) / (nresol_z - 1) + zmin\n",
    "x_arr = np.arange(nresol_x) * (xmax - xmin) / (nresol_x - 1) + xmin\n",
    "y_arr = np.arange(nresol_y) * (ymax - ymin) / (nresol_y - 1) + ymin\n",
    "B_PHOTO = 500\n",
    "data_bz = np.zeros((nresol_y, nresol_x))\n",
    "\n",
    "for ix in range(0, nresol_x):\n",
    "    for iy in range(0, nresol_y):\n",
    "        x = x_arr[ix]\n",
    "        y = y_arr[iy]\n",
    "        data_bz[iy, ix] = dipole(x, y) * B_PHOTO\n",
    "\n",
    "data2d = Field2dData(\n",
    "    nresol_x,\n",
    "    nresol_y,\n",
    "    nresol_z,\n",
    "    nresol_x,\n",
    "    pixelsize_x,\n",
    "    pixelsize_y,\n",
    "    pixelsize_z,\n",
    "    x_arr,\n",
    "    y_arr,\n",
    "    z_arr,\n",
    "    data_bz,\n",
    ")"
   ]
  },
  {
   "cell_type": "code",
   "execution_count": null,
   "metadata": {},
   "outputs": [],
   "source": [
    "%timeit -n 5 -r 5 check_runtime_b_asymptotic_seehafer()"
   ]
  },
  {
   "cell_type": "code",
   "execution_count": null,
   "metadata": {},
   "outputs": [],
   "source": [
    "%timeit -n 5 -r 5 check_runtime_b_nw_seehafer()"
   ]
  },
  {
   "cell_type": "code",
   "execution_count": null,
   "metadata": {},
   "outputs": [],
   "source": [
    "%timeit -n 5 -r 5 check_runtime_b_asymptotic_balanced()"
   ]
  },
  {
   "cell_type": "code",
   "execution_count": null,
   "metadata": {},
   "outputs": [],
   "source": [
    "%timeit -n 5 -r 5 check_runtime_b_nw_balanced()"
   ]
  },
  {
   "cell_type": "code",
   "execution_count": 8,
   "metadata": {},
   "outputs": [],
   "source": [
    "nresol_x = 300\n",
    "nresol_y = nresol_x\n",
    "nresol_z = 200\n",
    "xmin = 0.0\n",
    "xmax = 20.0  # in units of 10^4 km, therefore corresponds to 20Mm\n",
    "ymin = 0.0\n",
    "ymax = 20.0\n",
    "zmin = 0.0\n",
    "zmax = 20.0\n",
    "pixelsize_x = (xmax - xmin) / nresol_x\n",
    "pixelsize_y = (ymax - ymin) / nresol_y\n",
    "pixelsize_z = (zmax - zmin) / nresol_z\n",
    "\n",
    "z0 = 2.0\n",
    "\n",
    "nf_max = nresol_x\n",
    "\n",
    "z_arr = np.arange(nresol_z) * (zmax - zmin) / (nresol_z - 1) + zmin\n",
    "x_arr = np.arange(nresol_x) * (xmax - xmin) / (nresol_x - 1) + xmin\n",
    "y_arr = np.arange(nresol_y) * (ymax - ymin) / (nresol_y - 1) + ymin\n",
    "B_PHOTO = 500\n",
    "data_bz = np.zeros((nresol_y, nresol_x))\n",
    "\n",
    "for ix in range(0, nresol_x):\n",
    "    for iy in range(0, nresol_y):\n",
    "        x = x_arr[ix]\n",
    "        y = y_arr[iy]\n",
    "        data_bz[iy, ix] = dipole(x, y) * B_PHOTO\n",
    "\n",
    "data2d = Field2dData(\n",
    "    nresol_x,\n",
    "    nresol_y,\n",
    "    nresol_z,\n",
    "    nresol_x,\n",
    "    pixelsize_x,\n",
    "    pixelsize_y,\n",
    "    pixelsize_z,\n",
    "    x_arr,\n",
    "    y_arr,\n",
    "    z_arr,\n",
    "    data_bz,\n",
    ")"
   ]
  },
  {
   "cell_type": "code",
   "execution_count": null,
   "metadata": {},
   "outputs": [],
   "source": [
    "%timeit -n 5 -r 5 check_runtime_b_asymptotic_seehafer()"
   ]
  },
  {
   "cell_type": "code",
   "execution_count": null,
   "metadata": {},
   "outputs": [],
   "source": [
    "%timeit -n 5 -r 5 check_runtime_b_nw_seehafer()"
   ]
  },
  {
   "cell_type": "code",
   "execution_count": null,
   "metadata": {},
   "outputs": [],
   "source": [
    "%timeit -n 5 -r 5 check_runtime_b_asymptotic_balanced()"
   ]
  },
  {
   "cell_type": "code",
   "execution_count": null,
   "metadata": {},
   "outputs": [],
   "source": [
    "%timeit -n 5 -r 5 check_runtime_b_nw_balanced()"
   ]
  },
  {
   "cell_type": "code",
   "execution_count": 13,
   "metadata": {},
   "outputs": [],
   "source": [
    "nresol_x = 350\n",
    "nresol_y = nresol_x\n",
    "nresol_z = 200\n",
    "xmin = 0.0\n",
    "xmax = 20.0  # in units of 10^4 km, therefore corresponds to 20Mm\n",
    "ymin = 0.0\n",
    "ymax = 20.0\n",
    "zmin = 0.0\n",
    "zmax = 20.0\n",
    "pixelsize_x = (xmax - xmin) / nresol_x\n",
    "pixelsize_y = (ymax - ymin) / nresol_y\n",
    "pixelsize_z = (zmax - zmin) / nresol_z\n",
    "\n",
    "z0 = 2.0\n",
    "\n",
    "nf_max = nresol_x\n",
    "\n",
    "z_arr = np.arange(nresol_z) * (zmax - zmin) / (nresol_z - 1) + zmin\n",
    "x_arr = np.arange(nresol_x) * (xmax - xmin) / (nresol_x - 1) + xmin\n",
    "y_arr = np.arange(nresol_y) * (ymax - ymin) / (nresol_y - 1) + ymin\n",
    "B_PHOTO = 500\n",
    "data_bz = np.zeros((nresol_y, nresol_x))\n",
    "\n",
    "for ix in range(0, nresol_x):\n",
    "    for iy in range(0, nresol_y):\n",
    "        x = x_arr[ix]\n",
    "        y = y_arr[iy]\n",
    "        data_bz[iy, ix] = dipole(x, y) * B_PHOTO\n",
    "\n",
    "data2d = Field2dData(\n",
    "    nresol_x,\n",
    "    nresol_y,\n",
    "    nresol_z,\n",
    "    nresol_x,\n",
    "    pixelsize_x,\n",
    "    pixelsize_y,\n",
    "    pixelsize_z,\n",
    "    x_arr,\n",
    "    y_arr,\n",
    "    z_arr,\n",
    "    data_bz,\n",
    ")"
   ]
  },
  {
   "cell_type": "code",
   "execution_count": null,
   "metadata": {},
   "outputs": [],
   "source": [
    "%timeit -n 5 -r 5 check_runtime_b_asymptotic_seehafer()"
   ]
  },
  {
   "cell_type": "code",
   "execution_count": null,
   "metadata": {},
   "outputs": [],
   "source": [
    "%timeit -n 5 -r 5 check_runtime_b_nw_seehafer()"
   ]
  },
  {
   "cell_type": "code",
   "execution_count": null,
   "metadata": {},
   "outputs": [],
   "source": [
    "%timeit -n 5 -r 5 check_runtime_b_asymptotic_balanced()"
   ]
  },
  {
   "cell_type": "code",
   "execution_count": null,
   "metadata": {},
   "outputs": [],
   "source": [
    "%timeit -n 5 -r 5 check_runtime_b_nw_balanced()"
   ]
  },
  {
   "cell_type": "code",
   "execution_count": 18,
   "metadata": {},
   "outputs": [],
   "source": [
    "nresol_x = 550\n",
    "nresol_y = nresol_x\n",
    "nresol_z = 200\n",
    "xmin = 0.0\n",
    "xmax = 20.0  # in units of 10^4 km, therefore corresponds to 20Mm\n",
    "ymin = 0.0\n",
    "ymax = 20.0\n",
    "zmin = 0.0\n",
    "zmax = 20.0\n",
    "pixelsize_x = (xmax - xmin) / nresol_x\n",
    "pixelsize_y = (ymax - ymin) / nresol_y\n",
    "pixelsize_z = (zmax - zmin) / nresol_z\n",
    "\n",
    "z0 = 2.0\n",
    "\n",
    "nf_max = nresol_x\n",
    "\n",
    "z_arr = np.arange(nresol_z) * (zmax - zmin) / (nresol_z - 1) + zmin\n",
    "x_arr = np.arange(nresol_x) * (xmax - xmin) / (nresol_x - 1) + xmin\n",
    "y_arr = np.arange(nresol_y) * (ymax - ymin) / (nresol_y - 1) + ymin\n",
    "B_PHOTO = 500\n",
    "data_bz = np.zeros((nresol_y, nresol_x))\n",
    "\n",
    "for ix in range(0, nresol_x):\n",
    "    for iy in range(0, nresol_y):\n",
    "        x = x_arr[ix]\n",
    "        y = y_arr[iy]\n",
    "        data_bz[iy, ix] = dipole(x, y) * B_PHOTO\n",
    "\n",
    "data2d = Field2dData(\n",
    "    nresol_x,\n",
    "    nresol_y,\n",
    "    nresol_z,\n",
    "    nresol_x,\n",
    "    pixelsize_x,\n",
    "    pixelsize_y,\n",
    "    pixelsize_z,\n",
    "    x_arr,\n",
    "    y_arr,\n",
    "    z_arr,\n",
    "    data_bz,\n",
    ")"
   ]
  },
  {
   "cell_type": "code",
   "execution_count": null,
   "metadata": {},
   "outputs": [],
   "source": [
    "%timeit -n 5 -r 5 check_runtime_b_asymptotic_seehafer()"
   ]
  },
  {
   "cell_type": "code",
   "execution_count": null,
   "metadata": {},
   "outputs": [],
   "source": [
    "%timeit -n 5 -r 5 check_runtime_b_nw_seehafer()"
   ]
  },
  {
   "cell_type": "code",
   "execution_count": null,
   "metadata": {},
   "outputs": [],
   "source": [
    "%timeit -n 5 -r 5 check_runtime_b_asymptotic_balanced()"
   ]
  },
  {
   "cell_type": "code",
   "execution_count": null,
   "metadata": {},
   "outputs": [],
   "source": [
    "%timeit -n 5 -r 5 check_runtime_b_nw_balanced()"
   ]
  },
  {
   "cell_type": "code",
   "execution_count": 28,
   "metadata": {},
   "outputs": [],
   "source": [
    "nresol_x = 600\n",
    "nresol_y = nresol_x\n",
    "nresol_z = 200\n",
    "xmin = 0.0\n",
    "xmax = 20.0  # in units of 10^4 km, therefore corresponds to 20Mm\n",
    "ymin = 0.0\n",
    "ymax = 20.0\n",
    "zmin = 0.0\n",
    "zmax = 20.0\n",
    "pixelsize_x = (xmax - xmin) / nresol_x\n",
    "pixelsize_y = (ymax - ymin) / nresol_y\n",
    "pixelsize_z = (zmax - zmin) / nresol_z\n",
    "\n",
    "z0 = 2.0\n",
    "\n",
    "nf_max = nresol_x\n",
    "\n",
    "z_arr = np.arange(nresol_z) * (zmax - zmin) / (nresol_z - 1) + zmin\n",
    "x_arr = np.arange(nresol_x) * (xmax - xmin) / (nresol_x - 1) + xmin\n",
    "y_arr = np.arange(nresol_y) * (ymax - ymin) / (nresol_y - 1) + ymin\n",
    "B_PHOTO = 500\n",
    "data_bz = np.zeros((nresol_y, nresol_x))\n",
    "\n",
    "for ix in range(0, nresol_x):\n",
    "    for iy in range(0, nresol_y):\n",
    "        x = x_arr[ix]\n",
    "        y = y_arr[iy]\n",
    "        data_bz[iy, ix] = dipole(x, y) * B_PHOTO\n",
    "\n",
    "data2d = Field2dData(\n",
    "    nresol_x,\n",
    "    nresol_y,\n",
    "    nresol_z,\n",
    "    nresol_x,\n",
    "    pixelsize_x,\n",
    "    pixelsize_y,\n",
    "    pixelsize_z,\n",
    "    x_arr,\n",
    "    y_arr,\n",
    "    z_arr,\n",
    "    data_bz,\n",
    ")"
   ]
  },
  {
   "cell_type": "code",
   "execution_count": null,
   "metadata": {},
   "outputs": [],
   "source": [
    "%timeit -n 5 -r 5 check_runtime_b_asymptotic_seehafer()"
   ]
  },
  {
   "cell_type": "code",
   "execution_count": null,
   "metadata": {},
   "outputs": [],
   "source": [
    "%timeit -n 5 -r 5 check_runtime_b_nw_seehafer()"
   ]
  },
  {
   "cell_type": "code",
   "execution_count": null,
   "metadata": {},
   "outputs": [],
   "source": [
    "%timeit -n 5 -r 5 check_runtime_b_asymptotic_balanced()"
   ]
  },
  {
   "cell_type": "code",
   "execution_count": null,
   "metadata": {},
   "outputs": [],
   "source": [
    "%timeit -n 5 -r 5 check_runtime_b_nw_balanced()"
   ]
  },
  {
   "cell_type": "code",
   "execution_count": 115,
   "metadata": {},
   "outputs": [],
   "source": [
    "resolution = np.array((50, 100, 150, 200, 250, 300, 350, 400, 450, 500)) ** 2 * 200"
   ]
  },
  {
   "cell_type": "code",
   "execution_count": 116,
   "metadata": {},
   "outputs": [],
   "source": [
    "asymp_see = np.array((0.31, 1.1, 3.02, 5.6, 9.97, 17.8, 22.6, 30.9, 41.3, 78.0))"
   ]
  },
  {
   "cell_type": "code",
   "execution_count": 117,
   "metadata": {},
   "outputs": [],
   "source": [
    "e1, d1, a1, b1 = np.polyfit(resolution, asymp_see, 3)"
   ]
  },
  {
   "cell_type": "code",
   "execution_count": 118,
   "metadata": {},
   "outputs": [],
   "source": [
    "f1 = scipy.interpolate.interp1d(resolution, asymp_see)\n",
    "xnew = np.arange(50**2 * 200, 500**2 * 200, 10)\n",
    "ynew1 = f1(xnew)"
   ]
  },
  {
   "cell_type": "code",
   "execution_count": 119,
   "metadata": {},
   "outputs": [],
   "source": [
    "hyp_see = np.array((0.694, 2.15, 5.81, 10.6, 16.9, 29.2, 36.0, 49.9, 69.0, 163.0))"
   ]
  },
  {
   "cell_type": "code",
   "execution_count": 120,
   "metadata": {},
   "outputs": [],
   "source": [
    "e2, d2, a2, b2 = np.polyfit(resolution, hyp_see, 3)"
   ]
  },
  {
   "cell_type": "code",
   "execution_count": 121,
   "metadata": {},
   "outputs": [],
   "source": [
    "f2 = scipy.interpolate.interp1d(resolution, hyp_see)\n",
    "ynew2 = f2(xnew)"
   ]
  },
  {
   "cell_type": "code",
   "execution_count": 122,
   "metadata": {},
   "outputs": [],
   "source": [
    "asymp_fb = np.array((0.067, 0.637, 1.67, 2.7, 4.51, 9.67, 10.9, 13.4, 25.7, 29.3))"
   ]
  },
  {
   "cell_type": "code",
   "execution_count": 123,
   "metadata": {},
   "outputs": [],
   "source": [
    "e3, d3, a3, b3 = np.polyfit(resolution, asymp_fb, 3)"
   ]
  },
  {
   "cell_type": "code",
   "execution_count": 124,
   "metadata": {},
   "outputs": [],
   "source": [
    "f3 = scipy.interpolate.interp1d(resolution, asymp_fb)\n",
    "ynew3 = f3(xnew)"
   ]
  },
  {
   "cell_type": "code",
   "execution_count": 125,
   "metadata": {},
   "outputs": [],
   "source": [
    "hyp_fb = np.array((0.144, 0.988, 1.97, 3.73, 6.31, 10.2, 14.4, 20.8, 29.3, 36.5))"
   ]
  },
  {
   "cell_type": "code",
   "execution_count": 126,
   "metadata": {},
   "outputs": [],
   "source": [
    "e4, d4, a4, b4 = np.polyfit(resolution, hyp_fb, 3)"
   ]
  },
  {
   "cell_type": "code",
   "execution_count": 127,
   "metadata": {},
   "outputs": [],
   "source": [
    "f4 = scipy.interpolate.interp1d(resolution, hyp_fb)\n",
    "ynew4 = f4(xnew)"
   ]
  },
  {
   "cell_type": "code",
   "execution_count": null,
   "metadata": {},
   "outputs": [],
   "source": [
    "fig, ax1 = plt.subplots()\n",
    "\n",
    "ax1.plot(\n",
    "    resolution,\n",
    "    asymp_see,\n",
    "    \"x\",\n",
    "    markersize=4,\n",
    "    linewidth=0.4,\n",
    "    color=c1,\n",
    "    label=\"N+W-A with Seehafer\"\n",
    ")\n",
    "# ax1.plot(\n",
    "#     resolution,\n",
    "#     e1 * resolution**3 + d1 * resolution**2 + a1 * resolution + b1,\n",
    "#     linewidth=0.4,\n",
    "#     color=c1,\n",
    "# )\n",
    "# ax1.plot(\n",
    "#     xnew,\n",
    "#     ynew1,\n",
    "#     linewidth=0.4,\n",
    "#     color=c1,\n",
    "# )\n",
    "ax1.plot(\n",
    "    resolution,\n",
    "    hyp_see,\n",
    "    \"x\",\n",
    "    markersize=4,\n",
    "    linewidth=0.4,\n",
    "    color=(0.000, 0.365, 0.580),\n",
    "    label=\"N+W with Seehafer\"\n",
    ")\n",
    "# ax1.plot(\n",
    "#     resolution,\n",
    "#     e2 * resolution**3 + d2 * resolution**2 + a2 * resolution + b2,\n",
    "#     linewidth=0.4,\n",
    "#     color=(0.000, 0.365, 0.580),\n",
    "# )\n",
    "# ax1.plot(\n",
    "#     xnew,\n",
    "#     ynew2,\n",
    "#     linewidth=0.4,\n",
    "#     color=(0.000, 0.365, 0.580),\n",
    "# )\n",
    "ax1.plot(\n",
    "    resolution,\n",
    "    asymp_fb,\n",
    "    \"x\",\n",
    "    markersize=4,\n",
    "    linewidth=0.4,\n",
    "    color=(1.000, 0.831, 0.514),\n",
    "    label=\"N+W-A without Seehafer\"\n",
    ")\n",
    "# ax1.plot(\n",
    "#     resolution,\n",
    "#     e3 * resolution**3 + d3 * resolution**2 + a3 * resolution + b3,\n",
    "#     linewidth=0.4,\n",
    "#     color=(1.000, 0.831, 0.514),\n",
    "# )\n",
    "# ax1.plot(\n",
    "#     xnew,\n",
    "#     ynew3,\n",
    "#     linewidth=0.4,\n",
    "#     color=(1.000, 0.831, 0.514),\n",
    "# )\n",
    "ax1.plot(\n",
    "    resolution,\n",
    "    hyp_fb,\n",
    "    \"x\",\n",
    "    markersize=4,\n",
    "    linewidth=0.4,\n",
    "    color=(1.000, 0.537, 0.000),\n",
    "    label=\"N+W without Seehafer\"\n",
    ")\n",
    "# ax1.plot(\n",
    "#     resolution,\n",
    "#     e4 * resolution**3 + d4 * resolution**2 + a4 * resolution + b4,\n",
    "#     linewidth=0.4,\n",
    "#     color=(1.000, 0.537, 0.000),\n",
    "# )\n",
    "# ax1.plot(\n",
    "#     xnew,\n",
    "#     ynew4,\n",
    "#     linewidth=0.4,\n",
    "#     color=(1.000, 0.537, 0.000),\n",
    "# )\n",
    "ax1.tick_params(direction=\"in\", length=2, width=0.5)\n",
    "ax1.set_xlabel(r\"\\# volume cells\")\n",
    "ax1.set_ylabel(r\"runtime (s)\")\n",
    "ax1.set_yscale(\"log\")\n",
    "ax1.set_xscale(\"log\")\n",
    "plotname = \"/Users/lilli/Desktop/runtime_log.png\"\n",
    "plt.legend(frameon=False)\n",
    "plt.savefig(plotname, dpi=300, bbox_inches=\"tight\", pad_inches=0.1)\n",
    "plt.show()"
   ]
  },
  {
   "cell_type": "code",
   "execution_count": null,
   "metadata": {},
   "outputs": [],
   "source": []
  }
 ],
 "metadata": {
  "kernelspec": {
   "display_name": "mflex-cNoQEf_u-py3.12",
   "language": "python",
   "name": "python3"
  },
  "language_info": {
   "codemirror_mode": {
    "name": "ipython",
    "version": 3
   },
   "file_extension": ".py",
   "mimetype": "text/x-python",
   "name": "python",
   "nbconvert_exporter": "python",
   "pygments_lexer": "ipython3",
   "version": "3.12.4"
  }
 },
 "nbformat": 4,
 "nbformat_minor": 2
}
